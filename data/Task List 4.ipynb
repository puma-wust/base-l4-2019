{
 "cells": [
  {
   "cell_type": "markdown",
   "metadata": {},
   "source": [
    "### 2018/2019 - Task List 4\n",
    "\n",
    "[Book](https://raw.githubusercontent.com/jonesgithub/book-1/master/ML%20Machine%20Learning-A%20Probabilistic%20Perspective.pdf)\n",
    "\n",
    "[A priori](https://en.wikipedia.org/wiki/A_priori_probability)\n",
    "\n",
    "[Likelihood](https://en.wikipedia.org/wiki/Likelihood_function)\n",
    "\n",
    "[Posteriori](https://en.wikipedia.org/wiki/Posterior_distribution)\n",
    "\n",
    "[Conjugate prior](https://en.wikipedia.org/wiki/Conjugate_prior)\n",
    "\n",
    "Pyro\n",
    "[Conditioning](http://pyro.ai/examples/intro_part_ii.html#Conditioning)\n",
    "\n",
    "Pyro [SVI](http://pyro.ai/examples/svi_part_i.html#Setup)\n",
    "\n",
    "1.  Select one attriubte from one of the datasets (Task List 3), that has distribution similar to Normal (or any known to you distribution)\n",
    "2.  Asume that you have some prior knowledge about parameters of that distribution\n",
    "3.  Create model, and apropriate guid function\n",
    "4. Learn parameter of your distribution, assume that you know STD or mean"
   ]
  },
  {
   "cell_type": "markdown",
   "metadata": {},
   "source": [
    "## Required imports"
   ]
  },
  {
   "cell_type": "code",
   "execution_count": 2,
   "metadata": {},
   "outputs": [],
   "source": [
    "%matplotlib inline\n",
    "import pyro\n",
    "import torch\n",
    "import numpy as np\n",
    "import matplotlib.pyplot as plt\n",
    "import pyro.optim as optim\n",
    "import pyro.distributions as dist\n",
    "from pyro.optim import Adam\n",
    "from torch.distributions import constraints\n",
    "from tqdm import tqdm\n",
    "from matplotlib import animation, rc\n",
    "from IPython.display import HTML"
   ]
  },
  {
   "cell_type": "code",
   "execution_count": 3,
   "metadata": {},
   "outputs": [],
   "source": [
    "pyro.set_rng_seed(1)\n",
    "#force pyro to validate\n",
    "pyro.enable_validation(True)"
   ]
  },
  {
   "cell_type": "markdown",
   "metadata": {},
   "source": [
    "#  Example of SVI"
   ]
  },
  {
   "cell_type": "markdown",
   "metadata": {},
   "source": [
    "Generate some sample data of weight measurments"
   ]
  },
  {
   "cell_type": "code",
   "execution_count": 4,
   "metadata": {},
   "outputs": [],
   "source": [
    "mean, std = 100, 10\n",
    "with pyro.plate(\"generator\", 1000) as _:\n",
    "    data = pyro.sample('data', pyro.distributions.Normal(mean, std))\n",
    "    \n",
    "prior_mean=80\n"
   ]
  },
  {
   "cell_type": "code",
   "execution_count": 5,
   "metadata": {},
   "outputs": [
    {
     "data": {
      "text/plain": [
       "tensor([ 84.7440,  92.4977,  93.4602,  83.9052,  98.9983,  93.9081,  90.2023,\n",
       "         83.9090,  92.8786, 103.0372,  92.2269,  97.4855,  97.7773, 116.8711,\n",
       "        102.2842, 104.6764,  93.0303,  88.3924, 106.9954, 101.9908, 108.6569,\n",
       "        102.4440,  93.3709, 108.0731, 111.0168,  98.2406,  77.5444,  85.5354,\n",
       "        100.6115,  93.8226,  92.0193,  98.6838, 118.7935,  99.2787, 101.5777,\n",
       "         92.2654, 101.9906, 100.4570, 101.5296,  95.2432,  98.8898, 102.9274,\n",
       "         98.4215,  99.7121, 123.5711,  89.6266, 115.7480,  93.7015,  90.7261,\n",
       "        105.4514, 100.6628,  95.6296, 107.6260, 104.4151, 111.6514, 120.1539,\n",
       "        101.3741, 109.3864,  98.1400,  93.5536, 115.3925,  91.3041,  66.6885,\n",
       "         92.5213,  99.7450,  89.7667,  94.0381,  89.9447,  97.8939,  99.9245,\n",
       "        116.7343, 100.1034,  92.9604,  98.1473,  90.0377,  91.6874,  95.3898,\n",
       "         94.3992, 103.9558,  90.1772,  94.9351, 100.9978,  93.4603, 107.3169,\n",
       "         85.6561,  94.9919, 101.7163,  98.4001, 102.5463,  94.9804,  89.5880,\n",
       "        107.3227,  89.5166,  95.2912, 102.9114, 119.9070, 106.6145, 111.8992,\n",
       "        108.1653,  90.8648, 113.8515,  91.8615,  90.7242, 111.1196, 113.3521,\n",
       "        106.0427,  98.9656,  98.4878,  78.9792,  93.7998,  85.2177,  88.6658,\n",
       "        108.7380,  94.3974, 112.8578, 108.1682, 102.0530, 103.0511, 105.3569,\n",
       "         95.6881, 125.5814,  97.6664,  99.8653, 118.6063,  80.1959, 117.9858,\n",
       "        101.0181, 103.4001, 107.1236,  82.2349, 103.5386, 111.9961,  96.9700,\n",
       "         82.3816, 106.3484,  91.9564,  83.8889,  81.2839, 105.4308, 106.6068,\n",
       "        122.9521, 106.7491, 117.1332,  82.0573,  86.3673,  90.1678, 115.1127,\n",
       "        106.4187, 104.7296,  95.7141, 105.5137,  84.5263, 105.1811, 101.0654,\n",
       "        102.6924, 113.2477, 117.4602, 118.5497,  92.9363, 125.5709, 104.1753,\n",
       "         97.8728,  91.6004,  95.7998,  93.7596,  90.2270, 108.7484, 109.8728,\n",
       "        103.0958, 115.2069, 112.0523,  81.8441,  95.9654,  90.4085,  99.9479,\n",
       "         99.2114, 108.4365, 111.6570, 105.2693, 116.1925,  90.3602, 101.4152,\n",
       "         98.3634,  96.4178, 117.2228,  96.9642, 102.3887, 113.4400, 101.0323,\n",
       "        111.0035,  96.5832, 109.4734,  94.3148, 108.3760, 117.8366,  98.0458,\n",
       "        105.1492,  81.5252,  70.8326,  94.3267,  94.5872, 108.9517,  91.1749,\n",
       "        105.3181,  84.5422,  98.2670, 107.2825, 100.5706, 109.0552, 110.4630,\n",
       "         94.7940, 113.5478, 102.3519, 119.1424, 118.3641, 113.2453,  90.3099,\n",
       "        112.5164, 112.1032,  94.7208, 102.1857,  94.2569, 114.5713, 117.7096,\n",
       "        116.4991,  95.6800,  97.2897,  85.6084, 112.4704, 112.7385, 103.9095,\n",
       "        103.8721,  99.2017, 103.4172, 109.4883,  86.1606, 117.2409,  76.3523,\n",
       "         90.7051, 102.9363, 102.1513, 109.3846, 114.6571,  94.4353,  92.5516,\n",
       "         97.9784,  97.7033, 100.0133, 103.7528,  94.1893,  94.2769, 110.0972,\n",
       "         98.9435,  88.2030,  99.0922, 105.6311,  87.4399, 108.9556, 101.6748,\n",
       "        107.5142, 124.1423, 110.2058,  95.5952,  82.6583,  87.6377, 115.7858,\n",
       "         88.8395, 107.6777,  94.1179, 121.1889,  94.5781,  75.4075,  88.8917,\n",
       "         88.8128, 107.5800,  95.0434,  98.0300,  99.6660, 107.1929, 110.6441,\n",
       "        108.3403,  80.8378,  96.5797,  93.3951, 103.1509, 111.4225, 103.0551,\n",
       "         94.2112,  97.6172,  86.4583, 102.6869, 101.1456,  84.4370,  89.2426,\n",
       "         91.2481,  95.2718, 109.9124,  99.4138, 111.7876, 106.2218, 107.8785,\n",
       "        113.6855,  91.4931, 105.1261, 110.4763,  96.8242, 101.3949, 123.4026,\n",
       "         93.8839, 108.1603, 102.4772,  96.1327, 101.9948, 107.9927,  97.3810,\n",
       "        101.5133, 111.9817,  77.1674,  89.8704,  91.1211, 106.5222,  91.2738,\n",
       "        100.3525,  96.6347, 114.0233, 104.8412,  92.9696,  91.7323, 107.7440,\n",
       "        106.9199,  89.8152,  91.9663,  92.9289, 107.5212,  99.8079, 111.0333,\n",
       "         93.9321,  94.7478,  94.3381, 100.0066, 107.2246, 101.5264, 101.4496,\n",
       "         76.5578, 103.6000, 104.6668, 112.8307, 112.6780, 101.9883, 105.4409,\n",
       "         96.0218,  80.7089, 102.3237, 108.6147, 106.2176,  82.1881,  92.1794,\n",
       "         85.7633, 116.0908,  99.6721, 108.5323, 100.5506,  82.5746, 108.7500,\n",
       "         72.8118,  97.7808, 103.4209, 111.0935,  94.2685, 109.5778, 100.0098,\n",
       "         86.1523,  90.0350, 108.0735, 111.7389,  90.6015, 113.1092,  96.8329,\n",
       "         98.1390,  94.2354, 106.8665, 104.2087,  89.7862, 109.8857,  94.3813,\n",
       "         98.4207, 115.0426,  86.0497, 108.0079,  93.3806, 112.5631, 104.9999,\n",
       "         97.2866, 118.4691,  99.6875,  99.0613,  93.8093,  93.6367,  95.7584,\n",
       "         79.7283, 104.0963,  84.5787,  89.8714,  99.7026,  97.1105, 101.5219,\n",
       "         97.0197,  98.6865,  93.7190, 111.9688, 106.1099,  95.4523,  90.3963,\n",
       "        102.7690,  93.1989,  94.5421,  95.4482, 103.1860,  96.4506, 106.8589,\n",
       "         96.2386,  75.8930,  87.2219,  99.3711,  99.0529,  76.8557, 105.5653,\n",
       "        105.0569,  97.9240, 106.9363, 104.1949, 122.5235, 109.3852, 114.2529,\n",
       "        115.0833, 101.0539,  83.9500,  98.9355, 102.4657, 106.1251, 107.3980,\n",
       "         98.2140, 100.7849,  95.6018,  96.3921,  87.3826, 119.1469,  81.3873,\n",
       "         99.9033, 102.6039, 102.8203, 102.5830,  95.7345, 109.8075, 118.5889,\n",
       "         89.0798, 107.6300, 102.2762,  85.4302, 117.0437,  67.3136, 104.7499,\n",
       "         78.8575,  84.9977, 110.6930, 114.3938, 105.0646, 108.3598, 111.7530,\n",
       "         96.5788,  96.1284, 105.4765,  98.4108,  92.6395,  97.6648,  94.5961,\n",
       "        101.5708,  94.0238,  91.1609, 106.0767,  96.1156,  99.6842,  94.3941,\n",
       "         93.4448, 107.2615, 106.7892,  95.6983,  96.1515,  84.9171,  92.8004,\n",
       "         88.0903, 113.2711,  78.0159, 102.8614,  97.9895,  74.6512,  84.1517,\n",
       "        102.1679,  98.5724, 114.2742, 101.6425,  96.8393, 101.2852,  94.7235,\n",
       "        110.8345, 107.2746, 105.7726, 105.3688,  95.6384, 102.7677, 102.9459,\n",
       "         94.3685, 105.1899, 113.3949,  97.6124,  99.3204,  98.4964, 105.2330,\n",
       "         97.8844,  87.4580, 100.1818, 114.1419,  82.5624, 101.1289, 104.5267,\n",
       "        103.1554,  93.0990,  97.1710, 103.5618,  93.4383, 106.7500, 112.9097,\n",
       "        102.8768, 111.3132,  99.9808,  97.6455,  92.2166, 100.1768, 111.8697,\n",
       "         94.0431,  84.2615, 109.0095, 110.4993, 104.2926, 103.4665, 111.9605,\n",
       "        100.5074,  75.9528, 106.6366,  96.0313, 104.0486, 103.4154,  94.0442,\n",
       "        111.0190, 105.5387,  90.4912,  94.9606, 117.3589, 111.3652, 107.3529,\n",
       "         93.6287,  91.1047, 105.9736,  93.8072, 112.0899, 108.0967,  96.2727,\n",
       "         94.6669,  95.0015, 100.3995,  92.1854, 103.1946, 108.2107, 108.6432,\n",
       "        104.9167, 104.4538,  91.1273, 105.2980, 102.6840, 103.5012,  97.2774,\n",
       "        110.6657,  91.0468, 114.1480,  90.8272, 108.3721, 114.9502,  91.6965,\n",
       "         80.0994,  91.2213, 102.2036,  80.4523, 108.5329,  85.8117, 109.8297,\n",
       "         94.6132, 101.3785, 109.2475, 102.9385, 130.3014,  85.7409, 103.3642,\n",
       "         99.3929,  72.1720, 113.4889, 102.6845,  88.7230,  94.0056,  97.2055,\n",
       "         97.8000, 111.3156,  94.4187,  91.5015,  94.0866, 109.1871,  82.9458,\n",
       "         93.7547,  84.5222,  95.6083,  91.7100,  95.7220, 112.9947,  89.8002,\n",
       "         91.4664,  81.5298,  94.3683,  97.0688,  84.2738,  89.9200,  88.7453,\n",
       "        120.8395, 102.8445,  97.9101, 127.9486, 109.4694, 111.6131, 100.2159,\n",
       "        121.8494, 103.7047, 108.3229, 110.2948,  95.3256, 112.0998,  90.7073,\n",
       "        115.9646,  99.6482, 101.9276, 109.4459, 104.0308, 107.8339, 116.2410,\n",
       "         80.3162, 109.2988, 115.9810, 104.2617, 125.0726, 104.4090,  79.6054,\n",
       "        110.6287, 107.7601, 100.8346, 117.0739,  97.9242,  97.2798,  93.4754,\n",
       "        123.1909,  96.8443, 112.2935, 100.1909, 116.9400,  90.2574, 101.0001,\n",
       "        101.6332, 111.1045, 106.5859,  98.1553,  93.0218, 105.4674,  89.0810,\n",
       "         97.9941,  97.8024,  92.4944, 109.1048, 114.9960,  97.2275, 100.9920,\n",
       "         84.2430, 107.4857,  97.5770,  98.2000, 109.5838, 103.7814, 101.9289,\n",
       "        102.4711,  96.8847, 100.4454,  92.2954, 104.5659,  86.8495,  94.9278,\n",
       "        104.1748, 109.2644, 106.3569,  98.3871, 110.2866, 100.4758, 104.1486,\n",
       "         72.9907,  84.9545,  98.1365,  90.6793, 103.0546,  94.8965, 108.7927,\n",
       "        117.7387,  98.6713, 113.4587,  95.3567,  96.2570, 109.7059,  80.4816,\n",
       "         93.5002, 113.4823, 103.0995,  84.7835, 109.7611, 103.9083, 100.2791,\n",
       "         95.8256, 117.0648,  97.4919,  99.6639, 105.8338, 116.1789,  86.2664,\n",
       "         91.4450, 115.7781, 101.0753, 111.0457, 105.9759, 100.7127,  94.9625,\n",
       "        108.0342, 111.8344, 106.3811,  94.9731,  90.0276,  94.3574,  96.5390,\n",
       "        102.7074,  86.4214,  90.3887, 111.7684, 101.1982, 106.6130, 117.9960,\n",
       "         85.2735,  85.4709, 102.5632,  92.4716, 112.1434, 105.3681,  94.0819,\n",
       "        111.3590, 114.4628,  88.5632, 107.8877,  93.2314,  90.6740, 100.7412,\n",
       "        102.1129, 100.2631,  99.7774,  84.9161,  72.7267,  91.4046,  95.3265,\n",
       "        115.4990, 104.5017, 112.9715, 102.9964,  89.7613, 110.2692,  98.0754,\n",
       "         95.1728, 100.6882, 103.6319,  96.0042, 113.4200,  93.3422,  97.8470,\n",
       "        103.3213,  98.7564,  93.6240,  99.1576,  96.2126,  82.0600, 113.6819,\n",
       "        100.2218, 109.8350, 113.3778,  99.2873,  83.5309, 108.4098,  96.8995,\n",
       "         89.5189,  90.6662, 102.4531, 103.4689, 125.5158,  91.9280, 133.6281,\n",
       "         92.6093, 102.2798, 109.8850,  78.5871,  81.5876,  93.8028,  88.1991,\n",
       "         91.4904, 112.8510,  87.7244,  96.2781, 110.8232,  92.8982, 128.6411,\n",
       "        110.9531, 107.7987, 117.7144, 117.4846,  93.4025,  88.0390,  97.3883,\n",
       "         99.9939, 115.5263,  90.7446,  91.5387, 101.5879, 108.5641,  79.1016,\n",
       "         87.8506, 101.7847, 106.9572, 100.3124,  77.3259, 100.9377, 104.8207,\n",
       "        100.8269, 108.7677, 114.5455, 100.3724, 109.6609, 101.9585,  90.4928,\n",
       "        101.3012, 108.6300, 104.9444, 111.5290, 101.7298, 103.9719,  95.5232,\n",
       "        104.5878, 107.3751,  88.1789,  91.9894,  84.2243,  90.8286,  97.6888,\n",
       "        110.4697,  84.0819, 100.8138, 110.8317,  94.2064,  94.0516, 100.7144,\n",
       "        103.4204, 108.8663,  91.0456, 101.3602, 106.5794,  90.8983,  98.5766,\n",
       "        102.9891, 114.5714, 102.3037,  98.5207,  93.6417, 103.5349,  99.6791,\n",
       "         94.3164,  85.7559,  86.7534,  79.1771,  93.6772, 115.9931, 119.3425,\n",
       "        105.9308, 118.1939,  91.2081,  88.2190, 102.5037, 103.6793,  94.9018,\n",
       "         99.0078,  94.9173, 112.3971, 104.2371, 102.6685, 100.7676,  89.2111,\n",
       "        107.9333,  93.8301,  84.8252,  89.8645, 113.7601, 114.3967,  77.5210,\n",
       "        113.2090,  94.6089, 103.8984,  91.5325,  78.4836, 102.4737,  85.5358,\n",
       "         87.8534, 102.8860,  91.4867,  91.3380,  88.5860,  80.9262,  88.0528,\n",
       "         99.0207, 106.4323, 108.0042, 104.0917, 103.0177,  89.9044, 110.6622,\n",
       "         99.7332,  95.8952, 109.8388,  81.7213,  93.4162,  84.4844,  60.5449,\n",
       "        111.3632, 104.5431,  89.5796, 109.3252, 108.7825,  86.1363,  98.4658,\n",
       "         94.7793,  99.0207, 103.3381, 106.2764,  99.1498,  87.8105,  82.0991,\n",
       "        106.9978, 109.9596,  97.8020, 101.3966,  97.4818,  97.3996,  86.4071,\n",
       "         87.8728, 109.3451,  95.3512, 102.4026,  98.0025, 100.2584, 127.8930,\n",
       "        116.3364, 109.6239, 102.5459, 106.3669,  91.1061,  91.9075, 117.1033,\n",
       "        109.9101, 103.1919,  87.3070, 117.8383,  91.3292, 103.7453, 104.6973,\n",
       "        107.4259, 111.3988,  95.6333,  87.1323,  92.3139, 105.0468, 103.2585,\n",
       "         95.4835,  99.9523,  98.9938,  85.1999, 110.1925, 100.6032])"
      ]
     },
     "execution_count": 5,
     "metadata": {},
     "output_type": "execute_result"
    }
   ],
   "source": [
    "data"
   ]
  },
  {
   "cell_type": "code",
   "execution_count": 6,
   "metadata": {},
   "outputs": [
    {
     "data": {
      "text/plain": [
       "tensor(100.0873)"
      ]
     },
     "execution_count": 6,
     "metadata": {},
     "output_type": "execute_result"
    }
   ],
   "source": [
    "data.mean()"
   ]
  },
  {
   "cell_type": "code",
   "execution_count": 7,
   "metadata": {},
   "outputs": [
    {
     "data": {
      "text/plain": [
       "tensor(10.2937)"
      ]
     },
     "execution_count": 7,
     "metadata": {},
     "output_type": "execute_result"
    }
   ],
   "source": [
    "data.std()"
   ]
  },
  {
   "cell_type": "markdown",
   "metadata": {},
   "source": [
    "Create model. We use prior belief about input values, and condition on data"
   ]
  },
  {
   "cell_type": "code",
   "execution_count": 24,
   "metadata": {},
   "outputs": [],
   "source": [
    "noise_std=0.5\n",
    "def model(data):  # equivalent to conditioned_scale above\n",
    "    prior=pyro.distributions.Normal(prior_mean, 1.)\n",
    "    weight = pyro.sample(\"weight\", prior)\n",
    "    with pyro.plate(\"map\", len(data)):\n",
    "        pyro.sample(\"measurement\", pyro.distributions.Normal(weight, noise_std), obs=data)"
   ]
  },
  {
   "cell_type": "markdown",
   "metadata": {},
   "source": [
    "Create guid function that has corresponging weight laten variable. We use one parameter mean with starting value 150, assuming std to be 10"
   ]
  },
  {
   "cell_type": "code",
   "execution_count": 25,
   "metadata": {},
   "outputs": [],
   "source": [
    "def guide(data):\n",
    "    mean = pyro.param(\"mean\", torch.tensor(150.), constraint=constraints.positive)\n",
    "    return pyro.sample(\"weight\", pyro.distributions.Normal(mean, 10))\n"
   ]
  },
  {
   "cell_type": "markdown",
   "metadata": {},
   "source": [
    "Create SVI with Adam optimizer, ELBO loss, our guide and model"
   ]
  },
  {
   "cell_type": "code",
   "execution_count": 26,
   "metadata": {},
   "outputs": [],
   "source": [
    "optim = Adam({\"lr\": 0.0003})\n",
    "svi = pyro.infer.SVI(model=model,\n",
    "                     guide=guide,\n",
    "                     optim=optim,\n",
    "                     loss=pyro.infer.Trace_ELBO(), num_samples=len(data))"
   ]
  },
  {
   "cell_type": "markdown",
   "metadata": {},
   "source": [
    "Train the model"
   ]
  },
  {
   "cell_type": "code",
   "execution_count": 27,
   "metadata": {},
   "outputs": [
    {
     "name": "stderr",
     "output_type": "stream",
     "text": [
      "100%|██████████| 6000/6000 [00:31<00:00, 192.59it/s]\n"
     ]
    }
   ],
   "source": [
    "pyro.clear_param_store()\n",
    "losses, mean  = [], []\n",
    "num_steps = 6000\n",
    "for t in tqdm(range(num_steps)):\n",
    "    losses.append(svi.step(data))\n",
    "    mean.append(pyro.param(\"mean\"))\n"
   ]
  },
  {
   "cell_type": "markdown",
   "metadata": {},
   "source": [
    "Plot loss"
   ]
  },
  {
   "cell_type": "code",
   "execution_count": 28,
   "metadata": {},
   "outputs": [
    {
     "name": "stdout",
     "output_type": "stream",
     "text": [
      "learned mean =  tensor(100.3645, grad_fn=<AddBackward0>)\n"
     ]
    },
    {
     "data": {
      "image/png": "[encoded data removed]",
      "text/plain": [
       "<Figure size 432x288 with 1 Axes>"
      ]
     },
     "metadata": {
      "needs_background": "light"
     },
     "output_type": "display_data"
    }
   ],
   "source": [
    "plt.plot(losses)\n",
    "plt.title(\"evidence lower bound (ELBO)\")\n",
    "plt.xlabel(\"step\")\n",
    "plt.ylabel(\"loss\");\n",
    "print('learned mean = ',pyro.param(\"mean\"))"
   ]
  },
  {
   "cell_type": "code",
   "execution_count": 29,
   "metadata": {},
   "outputs": [
    {
     "data": {
      "image/png": "[encoded data removed]",
      "text/plain": [
       "<Figure size 432x288 with 1 Axes>"
      ]
     },
     "metadata": {
      "needs_background": "light"
     },
     "output_type": "display_data"
    }
   ],
   "source": [
    "plt.subplot(1,2,1)\n",
    "plt.plot([0,num_steps],[data.mean(),data.mean()], 'k:')\n",
    "plt.plot(mean)\n",
    "plt.ylabel('mean');"
   ]
  },
  {
   "cell_type": "code",
   "execution_count": 33,
   "metadata": {},
   "outputs": [
    {
     "data": {
      "text/plain": [
       "tensor(100.3645, grad_fn=<AddBackward0>)"
      ]
     },
     "execution_count": 33,
     "metadata": {},
     "output_type": "execute_result"
    }
   ],
   "source": [
    "mean[-1]"
   ]
  },
  {
   "cell_type": "markdown",
   "metadata": {},
   "source": [
    "## Task"
   ]
  },
  {
   "cell_type": "code",
   "execution_count": 14,
   "metadata": {},
   "outputs": [],
   "source": [
    "## Insert solution here"
   ]
  },
  {
   "cell_type": "code",
   "execution_count": null,
   "metadata": {},
   "outputs": [],
   "source": []
  }
 ],
 "metadata": {
  "kernelspec": {
   "display_name": "Python 3",
   "language": "python",
   "name": "python3"
  },
  "language_info": {
   "codemirror_mode": {
    "name": "ipython",
    "version": 3
   },
   "file_extension": ".py",
   "mimetype": "text/x-python",
   "name": "python",
   "nbconvert_exporter": "python",
   "pygments_lexer": "ipython3",
   "version": "3.6.8"
  }
 },
 "nbformat": 4,
 "nbformat_minor": 2
}
